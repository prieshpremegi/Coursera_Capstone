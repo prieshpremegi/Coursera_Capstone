{
 "cells": [
  {
   "cell_type": "markdown",
   "metadata": {
    "collapsed": true
   },
   "source": [
    "# Compare New York and Toronto\n",
    "\n",
    "\n",
    "## The problem\n",
    "\n",
    "I currently live in the Chelsea neighborhood of New York.  A great job opportunity has arise in Toronto and I'm plannign to move there for long term but I'm not sure where to settle down. \n",
    "Ideally, I'd like to move to a borough similar Chelsea but I don't know Toronto. So can I find out which neighborhoods in Toronto are similar to chelsea?\n",
    "\n",
    "\n",
    "## The approach\n",
    "I will use Foursquare to collect top 10 venues in each borough in Toronto and New York. Then I can segment and cluster this data and it will tell me which boroughs in Toronto are similar to Chelsea.\n",
    "\n",
    "This data can also be used for anyone else, leaving in another New York borough who wants to move to Toronto.\n",
    "\n",
    "New York boroughs list - https://cocl.us/new_york_dataset\n",
    "Toronto boroughs list -  https://en.wikipedia.org/wiki/List_of_postal_codes_of_Canada:_M"
   ]
  },
  {
   "cell_type": "code",
   "execution_count": null,
   "metadata": {},
   "outputs": [],
   "source": []
  }
 ],
 "metadata": {
  "kernelspec": {
   "display_name": "Python 3.6",
   "language": "python",
   "name": "python3"
  },
  "language_info": {
   "codemirror_mode": {
    "name": "ipython",
    "version": 3
   },
   "file_extension": ".py",
   "mimetype": "text/x-python",
   "name": "python",
   "nbconvert_exporter": "python",
   "pygments_lexer": "ipython3",
   "version": "3.6.9"
  }
 },
 "nbformat": 4,
 "nbformat_minor": 1
}
