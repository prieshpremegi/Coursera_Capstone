{
 "cells": [
  {
   "cell_type": "markdown",
   "metadata": {},
   "source": [
    "# Capstone Project - Similar neighbourhoods in New York and Toronto\n",
    "\n",
    "\n",
    "\n",
    "## Background\n",
    "\n",
    "Manhattan is the smallest and most densly populated borough of New York City. Whith 72,033 people per square mile in 2015, this borough has density higher than any individual American city (1).\n",
    "\n",
    "I currently live in New Your and work for a big IT Consultancy company. I've been living in Manhattan for the last 5 year and have moved a few times until I found Harlem. I love everything about this neighbourhood, from restaurants to supermarkets and gym facilities, this is home for me.\n",
    "\n",
    "My consultancy company won a big project in Olt Town Toronto. I have been lucky to be assigned to this project, which is going to run for atleast 24 months. I was asked to choose a place to rent in Old Town Toronto. Rent price is not a problem for the company and therfore I want to move to a neighbourhood similar to Harlem.\n",
    "\n",
    "Both Manhattan and Old Toronto are boroughs of main cities in US and Canada. It's very dificult to compare these two neighbours due to its diffence in demographics but alo due to the way these boroughs have split their neighbourhoods.\n",
    "\n",
    "The Old Town Toronto has only 64 neighbourhoods, less than half of Manhattan (2)(3). It's population is 3,169 people per square mile (4), just 5% of Manhattan!\n",
    "\n",
    "\n",
    "\n",
    "## Problem\n",
    "\n",
    "Comparing Neighourhoods is not an easy task, so comparing Neighbourhoods of two different cities is even more complicate. **How can I compare Harlem neighbourhood to Old Town Toronto neighbourhoods and find the most similar place to live in?**\n",
    "\n",
    "This problem affects many people the globe who need to move their locations to a new city due to new job opportunities. In this cae the origin is Harlem, but it can be changes to any other place.\n",
    "\n",
    "\n",
    "\n",
    "### Approach:\n",
    "\n",
    "One way of comparing and segmenting neighbourhoods is to use Foursquare data to rank they types of venues in each neighbourhood. Then, I can segment these venues to identify the neighborhoods in Toronto that are in the same segment as Harlem.\n",
    "\n",
    "1) List of neighbourhoods in Old Town Toronto.\n",
    "* I need the list of all Old Town Toronto neighbourhods, along with its latitude and longitude so that I can use Foursquare to obtain information about the surrounding venue categories and frequency. \n",
    "* My data source for this exercise will be \"https://en.wikipedia.org/wiki/List_of_postal_codes_of_Canada:_M\". I will have to scrap this webpage and load only the Old Town Toronto neighbouhoods in a dataframe.\n",
    "\n",
    "2) Harlem geolocation:\n",
    "* I need the latitude and longitude of Harlem so that I can use Foursquare to obtain information about the surrounding venue categories and frequency. \n",
    "* My data source is https://www.gps-latitude-longitude.com/gps-coordinates-of-harlem and the latitude is  for this is 40.8115504 and longitude is -73.9464769.\n",
    "\n",
    "3) Get venues in each Neighbourhod using Foursquare:\n",
    "* I will run API calls to obtain the list of all venues in a radius of 750 meter of each neighbourhood geolocation.\n",
    "* I will clean the data and create a dataframe with the frequency of the top 10 venue categories per neighbourhood.\n",
    "\n",
    "4) Segment the neighbourhoods to find Harlem like neighbourhoods:\n",
    "* I will use Kmeans segmentation to find the best number of clusters and group the neighbourhoods.\n",
    "* Once segmented, I will identify which cluster has Harlem. The neighboughoods in this cluster will be my short-list of cndidats for Toronto.\n",
    "\n",
    "\n",
    "## References\n",
    "\n",
    "(1) New York City Neighbourhoods - https://en.wikipedia.org/wiki/New_York_City#Geography\n",
    "\n",
    "(2) Manhattan demographics - https://en.wikipedia.org/wiki/List_of_Manhattan_neighborhoods\n",
    "\n",
    "(3) Toronto Neighbourhoods - https://en.wikipedia.org/wiki/List_of_neighbourhoods_in_Toronto\n",
    "\n",
    "(4) Toronto demographics - https://en.wikipedia.org/wiki/Demographics_of_Toronto_neighbourhoods"
   ]
  },
  {
   "cell_type": "code",
   "execution_count": null,
   "metadata": {},
   "outputs": [],
   "source": []
  }
 ],
 "metadata": {
  "kernelspec": {
   "display_name": "Python 3.6",
   "language": "python",
   "name": "python3"
  },
  "language_info": {
   "codemirror_mode": {
    "name": "ipython",
    "version": 3
   },
   "file_extension": ".py",
   "mimetype": "text/x-python",
   "name": "python",
   "nbconvert_exporter": "python",
   "pygments_lexer": "ipython3",
   "version": "3.6.9"
  }
 },
 "nbformat": 4,
 "nbformat_minor": 1
}
